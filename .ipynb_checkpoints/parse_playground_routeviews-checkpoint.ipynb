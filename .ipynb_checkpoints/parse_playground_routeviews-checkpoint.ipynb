{
 "cells": [
  {
   "cell_type": "code",
   "execution_count": 54,
   "metadata": {},
   "outputs": [],
   "source": [
    "from itertools import groupby\n",
    "def parse_file():\n",
    "    i = 0\n",
    "    bgp = [None] * 100\n",
    "    with open('rib.20170101.0000.txt') as fp:\n",
    "        for l in fp:\n",
    "            row_ls = l.split('|')\n",
    "            if l.startswith('#') or l.isspace():\n",
    "                pass\n",
    "            elif row_ls[0] is 'R' and row_ls[1] is 'R':\n",
    "                prefix = row_ls[7]\n",
    "                ingress = row_ls[8]\n",
    "                egress = \"0\"\n",
    "                aspath = [k for k, g in groupby([int(x) for x in row_ls[9].split(' ')])]\n",
    "                cost = 0\n",
    "                bgp[i] = Bgp(prefix, ingress, egress, aspath, cost)\n",
    "                print(str(bgp[i]))\n",
    "                i = i + 1\n",
    "                if i > 15:\n",
    "                    return bgp"
   ]
  },
  {
   "cell_type": "code",
   "execution_count": 48,
   "metadata": {},
   "outputs": [],
   "source": [
    "class Bgp:\n",
    "    prefix = \"\"\n",
    "    ingress = \"\"\n",
    "    egress = \"\"\n",
    "    aspath = []\n",
    "    cost = 0\n",
    "    \n",
    "    def __init__(self, prefix, ingress, egress, aspath, cost):\n",
    "        self.prefix = prefix\n",
    "        self.ingress = ingress\n",
    "        self.egress = egress\n",
    "        self.aspath = aspath\n",
    "        self.cost = cost\n",
    "        \n",
    "    def __str__(self):\n",
    "        return \"{0} {1} {2} {3} {4}\".format(self.prefix, self.ingress, self.egress, self.aspath, self.cost)"
   ]
  },
  {
   "cell_type": "code",
   "execution_count": 55,
   "metadata": {},
   "outputs": [
    {
     "name": "stdout",
     "output_type": "stream",
     "text": [
      "0.0.0.0/0 80.241.176.31 0 [20771, 3356] 0\n",
      "0.0.0.0/0 91.228.151.1 0 [31019, 39326] 0\n",
      "0.0.0.0/0 94.156.252.18 0 [34224, 3257] 0\n",
      "0.0.0.0/0 103.247.3.45 0 [58511] 0\n",
      "0.0.0.0/0 202.73.40.45 0 [18106] 0\n",
      "0.0.0.0/0 185.44.116.1 0 [47872, 3356] 0\n",
      "1.0.0.0/24 80.241.176.31 0 [20771, 47872] 0\n",
      "1.0.4.0/24 198.129.33.85 0 [293, 209, 4637, 1221, 38803, 56203] 0\n",
      "1.0.4.0/24 212.66.96.126 0 [20912, 174, 4637, 1221, 38803, 56203] 0\n",
      "1.0.4.0/24 137.164.16.84 0 [2152, 11164, 4637, 1221, 38803, 56203] 0\n",
      "1.0.4.0/24 144.228.241.130 0 [1239, 4637, 1221, 38803, 56203] 0\n",
      "1.0.4.0/24 134.222.87.1 0 [286, 4637, 1221, 38803, 56203] 0\n",
      "1.0.4.0/24 103.247.3.45 0 [58511, 56203] 0\n",
      "1.0.4.0/24 195.22.216.188 0 [6762, 4637, 1221, 38803, 56203] 0\n",
      "1.0.4.0/24 129.250.0.11 0 [2914, 209, 4637, 1221, 38803, 56203] 0\n",
      "1.0.4.0/24 203.181.248.168 0 [7660, 2516, 4637, 1221, 38803, 56203] 0\n"
     ]
    }
   ],
   "source": [
    "parse_file()"
   ]
  }
 ],
 "metadata": {
  "kernelspec": {
   "display_name": "Python 3",
   "language": "python",
   "name": "python3"
  },
  "language_info": {
   "codemirror_mode": {
    "name": "ipython",
    "version": 3
   },
   "file_extension": ".py",
   "mimetype": "text/x-python",
   "name": "python",
   "nbconvert_exporter": "python",
   "pygments_lexer": "ipython3",
   "version": "3.5.2"
  },
  "varInspector": {
   "cols": {
    "lenName": 16,
    "lenType": 16,
    "lenVar": 40
   },
   "kernels_config": {
    "python": {
     "delete_cmd_postfix": "",
     "delete_cmd_prefix": "del ",
     "library": "var_list.py",
     "varRefreshCmd": "print(var_dic_list())"
    },
    "r": {
     "delete_cmd_postfix": ") ",
     "delete_cmd_prefix": "rm(",
     "library": "var_list.r",
     "varRefreshCmd": "cat(var_dic_list()) "
    }
   },
   "types_to_exclude": [
    "module",
    "function",
    "builtin_function_or_method",
    "instance",
    "_Feature"
   ],
   "window_display": false
  }
 },
 "nbformat": 4,
 "nbformat_minor": 2
}
