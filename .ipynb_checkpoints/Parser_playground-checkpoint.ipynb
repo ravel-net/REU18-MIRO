{
 "cells": [
  {
   "cell_type": "markdown",
   "metadata": {},
   "source": [
    "## IMPORTS"
   ]
  },
  {
   "cell_type": "code",
   "execution_count": 10,
   "metadata": {},
   "outputs": [],
   "source": [
    "import glob\n",
    "import pandas as pd\n",
    "import re\n",
    "import io"
   ]
  },
  {
   "cell_type": "markdown",
   "metadata": {},
   "source": [
    "## PARSE"
   ]
  },
  {
   "cell_type": "code",
   "execution_count": 11,
   "metadata": {},
   "outputs": [],
   "source": [
    "def parse_monitors(file):\n",
    "    #Find list of all occurences of M ...\n",
    "    monitors = re.findall(r'M.*',file)\n",
    "\n",
    "    #Convert list to one string to file pointer\n",
    "    tsv_fp = io.StringIO('\\n'.join(monitors))\n",
    "    \n",
    "    #Read into dataframe\n",
    "    df = pd.read_csv(tsv_fp, delimiter='\\t', names=['type','ip','ASN','key'])\n",
    "    df = df.drop(['type','key'],axis=1)\n",
    "    return df"
   ]
  },
  {
   "cell_type": "code",
   "execution_count": 17,
   "metadata": {},
   "outputs": [],
   "source": [
    "def parse_direct(file):\n",
    "    #Find list of all occurences of D ...\n",
    "    direct = re.findall(r'D.*',file)\n",
    "    \n",
    "    #remove the monitor keys\n",
    "    direct_onekey = ['\\t'.join(d.split('\\t')[0:3]) for d in direct]\n",
    "    \n",
    "    #Convert list to one string to file pointer\n",
    "    tsv_fp = io.StringIO('\\n'.join(direct_onekey))\n",
    "    \n",
    "    #Read into dataframe\n",
    "    df = pd.read_csv(tsv_fp, delimiter='\\t', names=['type','fromAS','toAS','keys'])\n",
    "    df = df.drop(['type','keys'],axis=1)\n",
    "    return df"
   ]
  },
  {
   "cell_type": "code",
   "execution_count": 21,
   "metadata": {},
   "outputs": [],
   "source": [
    "def parse_indirect(file):\n",
    "    #Find list of all occurences of I ...\n",
    "    indirect = re.findall(r'I.*',file)\n",
    "    \n",
    "    indirect_onekey = ['\\t'.join(d.split('\\t')[0:4]) for d in indirect]\n",
    "    \n",
    "    #Convert list to one string to file pointer\n",
    "    tsv_fp = io.StringIO('\\n'.join(indirect_onekey))\n",
    "    \n",
    "    #Read into dataframe\n",
    "    df = pd.read_csv(tsv_fp, delimiter='\\t', names=['type','fromAS', 'toAS','hops','keys'])\n",
    "    df = df.drop(['type','keys'],axis=1)\n",
    "    return df"
   ]
  },
  {
   "cell_type": "markdown",
   "metadata": {},
   "source": [
    "## RUN"
   ]
  },
  {
   "cell_type": "code",
   "execution_count": 26,
   "metadata": {
    "scrolled": false
   },
   "outputs": [
    {
     "name": "stdout",
     "output_type": "stream",
     "text": [
      "./aslinks/ipv4_2017/cycle-aslinks.l7.t1.c005344.20170101.txt\n",
      "DIRECT LINKS\n",
      "        fromAS   toAS\n",
      "0        10010  17683\n",
      "1        10010  17686\n",
      "2        10010  17947\n",
      "3        10010  18127\n",
      "4        10010  18278\n",
      "5        10010  23632\n",
      "6        10010  23639\n",
      "7        10010  23642\n",
      "8        10010  23785\n",
      "9        10010  23791\n",
      "10       10010  23836\n",
      "11       10010  24268\n",
      "12       10010  24271\n",
      "13       10010  24293\n",
      "14       10010   2500\n",
      "15       10010  38642\n",
      "16       10010   4678\n",
      "17       10010  55385\n",
      "18       10010  55387\n",
      "19       10010  58788\n",
      "20       10010  59103\n",
      "21       10010  59108\n",
      "22       10010   7665\n",
      "23       10010   9351\n",
      "24       10010   9615\n",
      "25       10010   9622\n",
      "26       10010   9990\n",
      "27       10010   9998\n",
      "28       10013   4686\n",
      "29       10015   2512\n",
      "..         ...    ...\n",
      "70  10026_4637  14828\n",
      "71  10026_4637  15133\n",
      "72  10026_4637  15224\n",
      "73  10026_4637    174\n",
      "74  10026_4637  17444\n",
      "75  10026_4637  17511\n",
      "76  10026_4637  17547\n",
      "77  10026_4637  17666\n",
      "78  10026_4637  17673\n",
      "79  10026_4637  17676\n",
      "80  10026_4637  17819\n",
      "81  10026_4637  17888\n",
      "82  10026_4637  18086\n",
      "83  10026_4637  18150\n",
      "84  10026_4637  18206\n",
      "85  10026_4637  18228\n",
      "86  10026_4637  18488\n",
      "87  10026_4637  19807\n",
      "88  10026_4637  19809\n",
      "89  10026_4637    209\n",
      "90  10026_4637  20940\n",
      "91  10026_4637  22363\n",
      "92  10026_4637  23352\n",
      "93  10026_4637  24043\n",
      "94  10026_4637  24118\n",
      "95  10026_4637  24155\n",
      "96  10026_4637  24247\n",
      "97  10026_4637  24486\n",
      "98  10026_4637  24487\n",
      "99  10026_4637   2497\n",
      "\n",
      "[100 rows x 2 columns]\n",
      "      fromAS       toAS\n",
      "52813   9911     133121\n",
      "52814   9911      20464\n",
      "52815   9911      24030\n",
      "52816   9911       3561\n",
      "52817   9911      38028\n",
      "52818   9911       7473\n",
      "52819   9911  7991_3561\n",
      "52820   9911       9890\n",
      "52821   9916       7539\n",
      "52822   9918       7540\n",
      "52823   9918       7710\n",
      "52824   9919      18413\n",
      "52825   9919       3462\n",
      "52826   9919       7478\n",
      "52827   9919       9216\n",
      "52828   9924     131143\n",
      "52829   9924     131148\n",
      "52830   9924       1659\n",
      "52831   9924      17416\n",
      "52832   9924      17420\n",
      "52833   9924      18424\n",
      "52834   9924      20940\n",
      "52835   9924       2119\n",
      "52836   9924      24158\n",
      "52837   9924      31972\n",
      "52838   9924       3462\n",
      "52839   9924      38837\n",
      "52840   9924      38841\n",
      "52841   9924      45250\n",
      "52842   9924       4662\n",
      "...      ...        ...\n",
      "52883   9931     131089\n",
      "52884   9931     133888\n",
      "52885   9931     133947\n",
      "52886   9931      18356\n",
      "52887   9931      18409\n",
      "52888   9931      24393\n",
      "52889   9931      38293\n",
      "52890   9931      38450\n",
      "52891   9931       4750\n",
      "52892   9931       9464\n",
      "52893   9931       9649\n",
      "52894   9931       9835\n",
      "52895   9931       9873\n",
      "52896   9939       9584\n",
      "52897   9942     134217\n",
      "52898   9942      17668\n",
      "52899   9942      18398\n",
      "52900   9942      24130\n",
      "52901   9942       2764\n",
      "52902   9942      38225\n",
      "52903   9942      45882\n",
      "52904   9942       4739\n",
      "52905   9942       4826\n",
      "52906   9942      55922\n",
      "52907   9942       7545\n",
      "52908   9943      20940\n",
      "52909   9950       3786\n",
      "52910   9955        701\n",
      "52911   9989     131194\n",
      "52912   9989       4657\n",
      "\n",
      "[100 rows x 2 columns]\n",
      "\n",
      "--------------------------------------------------------------------------------\n",
      "\n"
     ]
    }
   ],
   "source": [
    "i = 0\n",
    "for file in glob.glob('./aslinks/ipv4_2017/*.txt'):\n",
    "    # filename\n",
    "    print(file)\n",
    "    \n",
    "    #remove comments\n",
    "    with open(file, 'r') as fp:\n",
    "        rawfile = fp.read()\n",
    "        nocomments = re.sub(r'#.*\\n', '', rawfile)\n",
    "    \n",
    "    #print('MONITORS')\n",
    "    #monitors = parse_monitors(nocomments)\n",
    "    #print(monitors.head(n=10))\n",
    "    #print()\n",
    "    \n",
    "    print('DIRECT LINKS')\n",
    "    directs = parse_direct(nocomments)\n",
    "    print(directs.head(n=100))\n",
    "    print(directs.tail(n=100))\n",
    "    print()\n",
    "    \n",
    "    #print('INDIRECT LINKS')\n",
    "    #indirects = parse_indirect(nocomments)\n",
    "    #print(indirects.head(n=10))\n",
    "    print('-' * 80)\n",
    "    print()\n",
    "    if i > -1:\n",
    "        break\n",
    "    else:\n",
    "        i = i + 1"
   ]
  }
 ],
 "metadata": {
  "kernelspec": {
   "display_name": "Python 3",
   "language": "python",
   "name": "python3"
  },
  "language_info": {
   "codemirror_mode": {
    "name": "ipython",
    "version": 3
   },
   "file_extension": ".py",
   "mimetype": "text/x-python",
   "name": "python",
   "nbconvert_exporter": "python",
   "pygments_lexer": "ipython3",
   "version": "3.5.2"
  },
  "varInspector": {
   "cols": {
    "lenName": 16,
    "lenType": 16,
    "lenVar": 40
   },
   "kernels_config": {
    "python": {
     "delete_cmd_postfix": "",
     "delete_cmd_prefix": "del ",
     "library": "var_list.py",
     "varRefreshCmd": "print(var_dic_list())"
    },
    "r": {
     "delete_cmd_postfix": ") ",
     "delete_cmd_prefix": "rm(",
     "library": "var_list.r",
     "varRefreshCmd": "cat(var_dic_list()) "
    }
   },
   "types_to_exclude": [
    "module",
    "function",
    "builtin_function_or_method",
    "instance",
    "_Feature"
   ],
   "window_display": false
  }
 },
 "nbformat": 4,
 "nbformat_minor": 2
}
